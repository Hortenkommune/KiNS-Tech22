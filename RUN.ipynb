{
 "cells": [
  {
   "cell_type": "markdown",
   "metadata": {},
   "source": [
    "# Kodeeksempler\n",
    "\n",
    "Importerer funksjoner, og henter enheter fra Assetsystem"
   ]
  },
  {
   "cell_type": "code",
   "execution_count": null,
   "metadata": {
    "dotnet_interactive": {
     "language": "pwsh"
    },
    "vscode": {
     "languageId": "dotnet-interactive.pwsh"
    }
   },
   "outputs": [],
   "source": [
    ". .\\functions.ps1\n",
    "\n",
    "$3SCredential = Import-Clixml .\\3StepToken.cred\n",
    "\n",
    "$3SauthToken = Get-3StepAuthToken -Endpoint $config.\"3StepTokenEndpoint\" -Credential $3SCredential\n",
    "\n",
    "$3SDevices = Get-3StepDevices -authToken $3SauthToken -Endpoint $config.\"3StepServiceEndpoint\" | Where-Object { $_.serialNumber -eq \"NXVRVED00K21216A227600\" }  | Select-Object name,serialNumber,costcenter\n",
    "\n",
    "$3SDevices"
   ]
  },
  {
   "cell_type": "markdown",
   "metadata": {},
   "source": [
    "Koble til Azure AD og Intune for å finne ut hvem som bruker enheten"
   ]
  },
  {
   "cell_type": "code",
   "execution_count": null,
   "metadata": {
    "dotnet_interactive": {
     "language": "pwsh"
    },
    "vscode": {
     "languageId": "dotnet-interactive.pwsh"
    }
   },
   "outputs": [],
   "source": [
    "$AADCredentials = Import-Clixml .\\AADToken.cred\n",
    "\n",
    "$authToken = Get-ApplicationAuthToken -Credential $AADCredentials\n",
    "\n",
    "$IntuneDevice = Get-GraphData -uri \"https://graph.microsoft.com/beta/deviceManagement/managedDevices?`$filter=serialNumber eq '$($3SDevices.serialnumber)'\" -authToken $authToken | Select-Object id,serialNumber,deviceName,model,userPrincipalName\n",
    "\n",
    "$IntuneDevice | Format-List"
   ]
  },
  {
   "cell_type": "markdown",
   "metadata": {},
   "source": [
    "Henter informasjon om eleven teeljon@hortenskolen.no"
   ]
  },
  {
   "cell_type": "code",
   "execution_count": null,
   "metadata": {
    "dotnet_interactive": {
     "language": "pwsh"
    },
    "vscode": {
     "languageId": "dotnet-interactive.pwsh"
    }
   },
   "outputs": [],
   "source": [
    "$elevInfo = Invoke-RestMethod -Uri \"https://graph.microsoft.com/beta/users/$($IntuneDevice.userPrincipalName)?`$select=id,userPrincipalName,displayName,extension_fe2174665583431c953114ff7268b7b3_Education_SyncSource_SchoolId\" -Headers $authToken | Select-Object id,displayName,userPrincipalName,extension_fe2174665583431c953114ff7268b7b3_Education_SyncSource_SchoolId\n",
    "\n",
    "$elevInfo | Format-List\n"
   ]
  },
  {
   "cell_type": "markdown",
   "metadata": {},
   "source": [
    "Finner skolen til teeljon@hortenskolen.no"
   ]
  },
  {
   "cell_type": "code",
   "execution_count": null,
   "metadata": {
    "dotnet_interactive": {
     "language": "pwsh"
    },
    "vscode": {
     "languageId": "dotnet-interactive.pwsh"
    }
   },
   "outputs": [],
   "source": [
    "$skoleData = Get-GraphData -uri \"https://graph.microsoft.com/beta/education/schools\" -authToken $authToken | Where-Object { $_.externalId -eq $elevInfo.extension_fe2174665583431c953114ff7268b7b3_Education_SyncSource_SchoolId }\n",
    "\n",
    "$skoleData"
   ]
  },
  {
   "cell_type": "markdown",
   "metadata": {},
   "source": [
    "Flytter enheten til riktig skole i eksternt assetsystem"
   ]
  },
  {
   "cell_type": "code",
   "execution_count": null,
   "metadata": {
    "dotnet_interactive": {
     "language": "pwsh"
    },
    "vscode": {
     "languageId": "dotnet-interactive.pwsh"
    }
   },
   "outputs": [],
   "source": [
    "Set-3StepDeviceCostCenter -Endpoint $config.\"3StepServiceEndpoint\" -DeviceID $IntuneDevice.serialNumber -CostCenter $skoleData.displayName -authToken $3SauthToken"
   ]
  }
 ],
 "metadata": {
  "kernelspec": {
   "display_name": ".NET (C#)",
   "language": "C#",
   "name": ".net-csharp"
  },
  "language_info": {
   "file_extension": ".cs",
   "mimetype": "text/x-csharp",
   "name": "C#",
   "pygments_lexer": "csharp",
   "version": "9.0"
  },
  "vscode": {
   "interpreter": {
    "hash": "369f2c481f4da34e4445cda3fffd2e751bd1c4d706f27375911949ba6bb62e1c"
   }
  }
 },
 "nbformat": 4,
 "nbformat_minor": 2
}
